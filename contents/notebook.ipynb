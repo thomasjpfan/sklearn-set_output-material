{
 "cells": [
  {
   "cell_type": "markdown",
   "id": "7615645a-ec32-429e-86c5-8234663ba3fd",
   "metadata": {},
   "source": [
    "# Pandas output with scikit-learn's `set_output` API "
   ]
  },
  {
   "cell_type": "code",
   "execution_count": null,
   "id": "6404d1bf-1eec-42ee-ab58-9d2bd7edb295",
   "metadata": {},
   "outputs": [],
   "source": [
    "import sklearn"
   ]
  },
  {
   "cell_type": "code",
   "execution_count": null,
   "id": "7bb78aa4-032b-40f6-a794-06c6a78bcc33",
   "metadata": {},
   "outputs": [],
   "source": [
    "sklearn.__version__"
   ]
  },
  {
   "cell_type": "markdown",
   "id": "291f04b8-e81d-41d6-8377-fcf80e1dd301",
   "metadata": {},
   "source": [
    "## What is the `set_output` API?"
   ]
  },
  {
   "cell_type": "code",
   "execution_count": null,
   "id": "cfefbb62-55b4-4694-a0fd-8c1334605d23",
   "metadata": {},
   "outputs": [],
   "source": [
    "import pandas as pd"
   ]
  },
  {
   "cell_type": "code",
   "execution_count": null,
   "id": "83dee03a-2c76-4e18-8aa7-31b16d881d19",
   "metadata": {},
   "outputs": [],
   "source": [
    "X_df = pd.DataFrame({\"age\": [30, 40, 50],\n",
    "                     \"height\": [120, 140, 160]})"
   ]
  },
  {
   "cell_type": "code",
   "execution_count": null,
   "id": "2f81897b-4891-4425-851e-6d160c23d1a4",
   "metadata": {},
   "outputs": [],
   "source": [
    "X_df"
   ]
  },
  {
   "cell_type": "markdown",
   "id": "90779d63-3434-4855-beac-c1c64786a869",
   "metadata": {},
   "source": [
    "### Scaling"
   ]
  },
  {
   "cell_type": "code",
   "execution_count": null,
   "id": "697a727b-8e5e-40bc-9599-2e0c21611f66",
   "metadata": {},
   "outputs": [],
   "source": [
    "from sklearn.preprocessing import StandardScaler"
   ]
  },
  {
   "cell_type": "code",
   "execution_count": null,
   "id": "35c3d669-1c81-4aa8-94cd-1eb4f2583790",
   "metadata": {},
   "outputs": [],
   "source": [
    "scaler = StandardScaler()\n",
    "X_out_np = scaler.fit_transform(X_df)"
   ]
  },
  {
   "cell_type": "code",
   "execution_count": null,
   "id": "5cb6a9e7-621d-41a0-b523-2b95d58573d9",
   "metadata": {},
   "outputs": [],
   "source": [
    "X_out_np"
   ]
  },
  {
   "cell_type": "code",
   "execution_count": null,
   "id": "bafc44a7-2927-4246-b913-ba6831714bd3",
   "metadata": {},
   "outputs": [],
   "source": [
    "scaler.set_output(transform=\"pandas\") "
   ]
  },
  {
   "cell_type": "code",
   "execution_count": null,
   "id": "6acd9362-8f52-4636-abf1-c7861d6a0c22",
   "metadata": {},
   "outputs": [],
   "source": [
    "X_out_df = scaler.fit_transform(X_df)"
   ]
  },
  {
   "cell_type": "code",
   "execution_count": null,
   "id": "c51228bc-ec79-46c3-9fe1-1a5f932c9584",
   "metadata": {},
   "outputs": [],
   "source": [
    "X_out_df"
   ]
  },
  {
   "cell_type": "markdown",
   "id": "aeef5faf-fb28-4d9f-a407-1862762510dd",
   "metadata": {},
   "source": [
    "## What about a Pipeline?"
   ]
  },
  {
   "cell_type": "code",
   "execution_count": null,
   "id": "cdfefc27-24ea-4af6-bd97-c33d0da72a47",
   "metadata": {},
   "outputs": [],
   "source": [
    "from sklearn.pipeline import make_pipeline\n",
    "from sklearn.preprocessing import PolynomialFeatures"
   ]
  },
  {
   "cell_type": "code",
   "execution_count": null,
   "id": "f11c74d8-2971-4655-a507-18eb694b66b3",
   "metadata": {},
   "outputs": [],
   "source": [
    "pipe = make_pipeline(StandardScaler(), PolynomialFeatures())\n",
    "pipe.set_output(transform=\"pandas\")"
   ]
  },
  {
   "cell_type": "code",
   "execution_count": null,
   "id": "139fc178-36a1-4c10-b6be-8d887d5d2350",
   "metadata": {},
   "outputs": [],
   "source": [
    "X_trans = pipe.fit_transform(X_df)"
   ]
  },
  {
   "cell_type": "code",
   "execution_count": null,
   "id": "0b38ec95-15f9-410c-a2f3-8166fcfe62c4",
   "metadata": {},
   "outputs": [],
   "source": [
    "X_trans"
   ]
  },
  {
   "cell_type": "markdown",
   "id": "c6ee255f-85f0-4b73-9469-68d0dd6a37c3",
   "metadata": {},
   "source": [
    "## Heterogenous Data"
   ]
  },
  {
   "cell_type": "code",
   "execution_count": null,
   "id": "09877c99-8493-4f0b-9379-c71025835a2a",
   "metadata": {},
   "outputs": [],
   "source": [
    "from sklearn.datasets import fetch_openml\n",
    "from sklearn.compose import ColumnTransformer\n",
    "from sklearn.pipeline import Pipeline\n",
    "from sklearn.preprocessing import OneHotEncoder\n",
    "from sklearn.impute import SimpleImputer\n",
    "from sklearn.model_selection import train_test_split"
   ]
  },
  {
   "cell_type": "code",
   "execution_count": null,
   "id": "6781a06f-f388-4ede-b2e2-f6a2599ca8ff",
   "metadata": {},
   "outputs": [],
   "source": [
    "titanic = fetch_openml(\"titanic\", version=1, as_frame=True, parser=\"pandas\")"
   ]
  },
  {
   "cell_type": "code",
   "execution_count": null,
   "id": "5614e659-e8c3-45c1-b368-2b9d838faeb2",
   "metadata": {},
   "outputs": [],
   "source": [
    "X, y = titanic.data, titanic.target\n",
    "X_train, X_test, y_train, y_test = train_test_split(X, y, stratify=y, random_state=0)"
   ]
  },
  {
   "cell_type": "code",
   "execution_count": null,
   "id": "eb1e7285-17a7-4a1e-ae46-b841f46addbe",
   "metadata": {},
   "outputs": [],
   "source": [
    "X_train.head()"
   ]
  },
  {
   "cell_type": "markdown",
   "id": "16d24844-6a70-4095-b93f-6d9f7d9ae95a",
   "metadata": {},
   "source": [
    "### Numerical Preprocessing"
   ]
  },
  {
   "cell_type": "code",
   "execution_count": null,
   "id": "eefdbd70-18c5-43c6-bdf7-d63d3c586137",
   "metadata": {},
   "outputs": [],
   "source": [
    "numeric_features = [\"age\", \"fare\"]\n",
    "numeric_transformer = Pipeline([\n",
    "    (\"imputer\", SimpleImputer(strategy=\"median\")),\n",
    "    (\"scaler\", StandardScaler())\n",
    "])"
   ]
  },
  {
   "cell_type": "markdown",
   "id": "d36cc88b-707c-4093-bee1-7438cca82211",
   "metadata": {},
   "source": [
    "### Categorical Preprocessing"
   ]
  },
  {
   "cell_type": "code",
   "execution_count": null,
   "id": "ce64043e-1c27-4970-91fe-edd675918043",
   "metadata": {},
   "outputs": [],
   "source": [
    "categorical_features = [\"embarked\", \"sex\", \"pclass\"]\n",
    "categorical_transformer = OneHotEncoder(handle_unknown=\"ignore\", sparse_output=False)"
   ]
  },
  {
   "cell_type": "markdown",
   "id": "3cd48134-3e80-4637-b645-1961335edd98",
   "metadata": {},
   "source": [
    "### Combine them!"
   ]
  },
  {
   "cell_type": "code",
   "execution_count": null,
   "id": "d9b37b08-8e6c-4d21-85a9-0211c72424cd",
   "metadata": {},
   "outputs": [],
   "source": [
    "preprocessor = ColumnTransformer([\n",
    "    (\"numerical\", numeric_transformer, numeric_features),\n",
    "    (\"categorical\", categorical_transformer, categorical_features),\n",
    "    verbose_feature_names_out=False\n",
    "])"
   ]
  },
  {
   "cell_type": "code",
   "execution_count": null,
   "id": "388aede3",
   "metadata": {},
   "outputs": [],
   "source": [
    "preprocessor.fit_transform(X_train)"
   ]
  },
  {
   "cell_type": "markdown",
   "id": "7fb59c01",
   "metadata": {},
   "source": [
    "### `set_output`!"
   ]
  },
  {
   "cell_type": "code",
   "execution_count": null,
   "id": "ad967f54-7ee7-4818-bf63-7f768cc27184",
   "metadata": {},
   "outputs": [],
   "source": [
    "preprocessor.set_output(transform=\"pandas\")"
   ]
  },
  {
   "cell_type": "code",
   "execution_count": null,
   "id": "e768474a-a56d-4d4e-babd-44da5cf2b78b",
   "metadata": {},
   "outputs": [],
   "source": [
    "X_train_out = preprocessor.fit_transform(X_train)"
   ]
  },
  {
   "cell_type": "code",
   "execution_count": null,
   "id": "34cff8c2-ce43-4a98-9211-5abe8194df66",
   "metadata": {},
   "outputs": [],
   "source": [
    "X_train_out"
   ]
  },
  {
   "cell_type": "markdown",
   "id": "5bf16390-f0fe-4a10-ac5a-1a4d4830df5c",
   "metadata": {},
   "source": [
    "### Predictive Model"
   ]
  },
  {
   "cell_type": "code",
   "execution_count": null,
   "id": "adfdd020-4264-43d2-8aaa-9ea8fe043350",
   "metadata": {},
   "outputs": [],
   "source": [
    "from sklearn.linear_model import LogisticRegression"
   ]
  },
  {
   "cell_type": "code",
   "execution_count": null,
   "id": "d0568854-bf36-4685-9735-12b76ec1cc61",
   "metadata": {},
   "outputs": [],
   "source": [
    "log_reg = Pipeline([\n",
    "    (\"preprocessor\", preprocessor),\n",
    "    (\"classifier\", LogisticRegression())\n",
    "])"
   ]
  },
  {
   "cell_type": "code",
   "execution_count": null,
   "id": "0e0e6be0-8e5b-4166-9d23-1cd69c3911e0",
   "metadata": {},
   "outputs": [],
   "source": [
    "log_reg.set_output(transform=\"pandas\")"
   ]
  },
  {
   "cell_type": "code",
   "execution_count": null,
   "id": "4ad777c7-205e-47fe-b29c-4b13ab540942",
   "metadata": {},
   "outputs": [],
   "source": [
    "_ = log_reg.fit(X_train, y_train)"
   ]
  },
  {
   "cell_type": "markdown",
   "id": "ea35a9bf-2e5f-4a76-832f-b94fc56b1b40",
   "metadata": {},
   "source": [
    "## Feature names!"
   ]
  },
  {
   "cell_type": "code",
   "execution_count": null,
   "id": "2bfb2351-9413-40e7-9d52-e2376f7b5883",
   "metadata": {},
   "outputs": [],
   "source": [
    "classifier = log_reg[-1]\n",
    "classifier"
   ]
  },
  {
   "cell_type": "code",
   "execution_count": null,
   "id": "0e0c9153-c1bc-484a-b0d6-6bcb52963a52",
   "metadata": {},
   "outputs": [],
   "source": [
    "classifier.feature_names_in_"
   ]
  },
  {
   "cell_type": "code",
   "execution_count": null,
   "id": "127278e0-f0fb-4b5e-8aaf-6388354cd35a",
   "metadata": {},
   "outputs": [],
   "source": [
    "classifier.coef_[0]"
   ]
  },
  {
   "cell_type": "code",
   "execution_count": null,
   "id": "f0529aa0-fea9-42ec-b66e-d23ab2a1be1e",
   "metadata": {},
   "outputs": [],
   "source": [
    "import matplotlib.pyplot as plt\n",
    "\n",
    "fig, ax = plt.subplots(figsize=(8, 4), dpi=300)\n",
    "_ = pd.Series(classifier.coef_[0], index=classifier.feature_names_in_).sort_values().plot.barh(ax=ax)"
   ]
  },
  {
   "cell_type": "markdown",
   "id": "361c10a6",
   "metadata": {},
   "source": [
    "## Running on JupyterLite with Pyodide!\n",
    "\n",
    "![](https://raw.githubusercontent.com/pyodide/pyodide/master/docs/_static/img/pyodide-logo.png)"
   ]
  },
  {
   "cell_type": "markdown",
   "id": "7d035a78-e977-4b23-b220-353dab654b91",
   "metadata": {},
   "source": [
    "## Run this notebook in your browser!\n",
    "\n",
    "### This notebook is avaliable on JupyterLite:\n",
    "### https://thomasjpfan.github.io/sklearn-set_output-material/lab/index.html\n",
    "\n",
    "![](https://raw.githubusercontent.com/thomasjpfan/sklearn-set_output-material/main/qrcode_thomasjpfan.github.io.png)"
   ]
  }
 ],
 "metadata": {
  "kernelspec": {
   "display_name": "sk1 (python3)",
   "language": "python",
   "name": "conda-env-sk1-py"
  },
  "language_info": {
   "codemirror_mode": {
    "name": "ipython",
    "version": 3
   },
   "file_extension": ".py",
   "mimetype": "text/x-python",
   "name": "python",
   "nbconvert_exporter": "python",
   "pygments_lexer": "ipython3",
   "version": "3.10.6"
  },
  "vscode": {
   "interpreter": {
    "hash": "39c9b00793c6cd73288da27ccd8caff7958ebaa548cabe623f3a56e2fa758b04"
   }
  }
 },
 "nbformat": 4,
 "nbformat_minor": 5
}
